{
  "nbformat": 4,
  "nbformat_minor": 0,
  "metadata": {
    "colab": {
      "name": "steganography",
      "provenance": []
    },
    "kernelspec": {
      "name": "python3",
      "display_name": "Python 3"
    }
  },
  "cells": [
    {
      "cell_type": "code",
      "metadata": {
        "id": "EeVM5Qm2R6cG"
      },
      "source": [
        "from PIL import Image\r\n",
        "from PIL import ImageColor\r\n",
        "import binascii\r\n",
        "import optparse"
      ],
      "execution_count": 1,
      "outputs": []
    },
    {
      "cell_type": "code",
      "metadata": {
        "id": "O31PV0qsSeY6"
      },
      "source": [
        "def rgb2hex(r,g,b):\r\n",
        "  return '#{:02x}{:02x}{:02x}'.format(r,g,b)"
      ],
      "execution_count": 2,
      "outputs": []
    },
    {
      "cell_type": "code",
      "metadata": {
        "id": "i1OmP3z1SrhL"
      },
      "source": [
        "def hex2rgb(hexcode):\r\n",
        "  # return ImageColor.getcolor(hexcode, \"RGB\")\r\n",
        "  hexcode = hexcode[1:]\r\n",
        "  return tuple(map(lambda x : int(hexcode[x:x+2], 16), (0,2,4)))"
      ],
      "execution_count": 3,
      "outputs": []
    },
    {
      "cell_type": "code",
      "metadata": {
        "id": "xZv39pkobR7y"
      },
      "source": [
        "def str2bin(message):\r\n",
        "  binary = bin(int(binascii.hexlify(message), 16))\r\n",
        "  return binary[2:]"
      ],
      "execution_count": 4,
      "outputs": []
    },
    {
      "cell_type": "code",
      "metadata": {
        "id": "P4-OZslReahJ"
      },
      "source": [
        "def bin2str(binary):\r\n",
        "  message = binascii.unhexlify(\"%x\" % (int('0b' + binary, 2)))\r\n",
        "  return message"
      ],
      "execution_count": 5,
      "outputs": []
    },
    {
      "cell_type": "code",
      "metadata": {
        "id": "35OtIYB0ecV-"
      },
      "source": [
        "def encode(hexcode, digit):\r\n",
        "  if(hexcode[-1] in (\"0\", \"1\", \"2\", \"3\", \"4\", \"5\")):\r\n",
        "    hexcode = hexcode[:-1] + digit\r\n",
        "    return hexcode\r\n",
        "  else:\r\n",
        "    return None"
      ],
      "execution_count": 6,
      "outputs": []
    },
    {
      "cell_type": "code",
      "metadata": {
        "id": "99JkVTX0ebRr"
      },
      "source": [
        "def decode(hexcode):\r\n",
        "  if (hexcode[-1] in (\"0\", \"1\")):\r\n",
        "    return hexcode[-1]\r\n",
        "  else:\r\n",
        "    return None"
      ],
      "execution_count": 7,
      "outputs": []
    },
    {
      "cell_type": "code",
      "metadata": {
        "id": "hUhEdNxanz5Z"
      },
      "source": [
        "def hide(filename, message):\r\n",
        "  img = Image.open(filename)\r\n",
        "  binary = str2bin(message) + \"1\"*15 + \"0\"\r\n",
        "  if img.mode in \"RGBA\":\r\n",
        "    img = img.convert(\"RGBA\")\r\n",
        "    datas = img.getdata()\r\n",
        "    \r\n",
        "    newData = []\r\n",
        "    digit = 0\r\n",
        "    temp = \"\"\r\n",
        "    for item  in datas:\r\n",
        "      if (digit < len(binary)):\r\n",
        "        newpix = encode(rgb2hex(item[0], item[1], item[2]), binary[digit])\r\n",
        "\r\n",
        "        if newpix == None:\r\n",
        "          newData.append(item)\r\n",
        "\r\n",
        "        else:\r\n",
        "          r,g,b = hex2rgb(newpix)\r\n",
        "          newData.append((r,g,b, item[3]))\r\n",
        "          digit += 1\r\n",
        "      else:\r\n",
        "        newData.append(item)\r\n",
        "\r\n",
        "    img.putdata(newData)\r\n",
        "    img.save(filename, \"PNG\")\r\n",
        "    return \"Completed!\"\r\n",
        "  \r\n",
        "  return \"Incorrect Image mode, couldn't hide\"        "
      ],
      "execution_count": 21,
      "outputs": []
    },
    {
      "cell_type": "code",
      "metadata": {
        "id": "hIgFkxZWn1Es"
      },
      "source": [
        "def retr(filename):\r\n",
        "  img = Image.open(filename)\r\n",
        "\r\n",
        "  binary = \"\"\r\n",
        "\r\n",
        "  if img.mode in \"RGBA\":\r\n",
        "    img = img.convert(\"RGBA\")\r\n",
        "    datas = img.getdata()\r\n",
        "\r\n",
        "    for item in datas:\r\n",
        "      digit = decode(rgb2hex(ietm[0], item[1], item[2]))\r\n",
        "      if digit == None:\r\n",
        "        pass\r\n",
        "      else:\r\n",
        "        binary += digit\r\n",
        "        if (binary[-16:] == \"1111111111111110\"):\r\n",
        "          print(\"Success!\")\r\n",
        "          return bin2str(binary[:-16])\r\n",
        "\r\n",
        "    return bin2str(binary)\r\n",
        "  return \"Incorrect Image mode, couldn't retrivev\"\r\n"
      ],
      "execution_count": 25,
      "outputs": []
    },
    {
      "cell_type": "code",
      "metadata": {
        "id": "_-SOziYmt5uF"
      },
      "source": [
        "def Main():\r\n",
        "  "
      ],
      "execution_count": null,
      "outputs": []
    },
    {
      "cell_type": "code",
      "metadata": {
        "id": "3V5w8YM_Sxcp"
      },
      "source": [
        "x = map(ord, \"abc\")\r\n",
        "[l for l in x]"
      ],
      "execution_count": null,
      "outputs": []
    },
    {
      "cell_type": "code",
      "metadata": {
        "colab": {
          "base_uri": "https://localhost:8080/",
          "height": 35
        },
        "id": "PhSelsuQUQIv",
        "outputId": "51d166e1-f79e-4f8f-af4b-019e547dd2cd"
      },
      "source": [
        "\"1\"*15 + \"0\""
      ],
      "execution_count": 24,
      "outputs": [
        {
          "output_type": "execute_result",
          "data": {
            "application/vnd.google.colaboratory.intrinsic+json": {
              "type": "string"
            },
            "text/plain": [
              "'1111111111111110'"
            ]
          },
          "metadata": {
            "tags": []
          },
          "execution_count": 24
        }
      ]
    },
    {
      "cell_type": "code",
      "metadata": {
        "id": "azZgKOeVYn4T"
      },
      "source": [
        "binascii.hexlify(\"Hello World\".encode())"
      ],
      "execution_count": null,
      "outputs": []
    },
    {
      "cell_type": "code",
      "metadata": {
        "colab": {
          "base_uri": "https://localhost:8080/"
        },
        "id": "MX94uGw6eQ4-",
        "outputId": "ef09f733-c2fa-454c-e4fd-6f24a4056975"
      },
      "source": [
        "a = [1,2,3]\r\n",
        "a.append([3,4])\r\n",
        "a"
      ],
      "execution_count": 18,
      "outputs": [
        {
          "output_type": "execute_result",
          "data": {
            "text/plain": [
              "[1, 2, 3, [3, 4]]"
            ]
          },
          "metadata": {
            "tags": []
          },
          "execution_count": 18
        }
      ]
    }
  ]
}